{
  "nbformat": 4,
  "nbformat_minor": 0,
  "metadata": {
    "colab": {
      "provenance": [],
      "include_colab_link": true
    },
    "kernelspec": {
      "name": "python3",
      "display_name": "Python 3"
    },
    "language_info": {
      "name": "python"
    }
  },
  "cells": [
    {
      "cell_type": "markdown",
      "metadata": {
        "id": "view-in-github",
        "colab_type": "text"
      },
      "source": [
        "<a href=\"https://colab.research.google.com/github/kellerpires/live/blob/master/bolsavalores.ipynb\" target=\"_parent\"><img src=\"https://colab.research.google.com/assets/colab-badge.svg\" alt=\"Open In Colab\"/></a>"
      ]
    },
    {
      "cell_type": "code",
      "execution_count": 19,
      "metadata": {
        "colab": {
          "base_uri": "https://localhost:8080/"
        },
        "id": "bLABa6m31RD8",
        "outputId": "1929886d-d6b1-4920-8049-4eaf958dd6fe"
      },
      "outputs": [
        {
          "output_type": "stream",
          "name": "stdout",
          "text": [
            "Requirement already satisfied: pyspark in /usr/local/lib/python3.10/dist-packages (3.5.0)\n",
            "Requirement already satisfied: py4j==0.10.9.7 in /usr/local/lib/python3.10/dist-packages (from pyspark) (0.10.9.7)\n"
          ]
        }
      ],
      "source": [
        "!pip install pyspark"
      ]
    },
    {
      "cell_type": "code",
      "source": [
        "from pyspark.sql import SparkSession\n",
        "\n",
        "# Spark entry point\n",
        "spark = SparkSession \\\n",
        "    .builder \\\n",
        "    .appName(\"trabalho pratico 1 - Cientista de Dados - Apache Spark\") \\\n",
        "    .getOrCreate()\n",
        "\n",
        "spark.version"
      ],
      "metadata": {
        "colab": {
          "base_uri": "https://localhost:8080/",
          "height": 35
        },
        "id": "0KGkjNobIpi-",
        "outputId": "53bbba41-7a30-40fd-9cd5-753929cc3d76"
      },
      "execution_count": 20,
      "outputs": [
        {
          "output_type": "execute_result",
          "data": {
            "text/plain": [
              "'3.5.0'"
            ],
            "application/vnd.google.colaboratory.intrinsic+json": {
              "type": "string"
            }
          },
          "metadata": {},
          "execution_count": 20
        }
      ]
    },
    {
      "cell_type": "code",
      "source": [
        "# Carregando a planilha CSV\n",
        "bolsavalores_df = spark.read.csv('/content/all_stocks_5yr.csv',header='True',inferSchema='True')\n",
        "\n",
        "# Detalhes dos atributos em https://www.kaggle.com/c/titanic/data?select=train.csv\n",
        "bolsavalores_df.printSchema()"
      ],
      "metadata": {
        "colab": {
          "base_uri": "https://localhost:8080/"
        },
        "id": "-DGQG8dcto0b",
        "outputId": "9bb4881a-66be-4db8-c977-4049366f91e2"
      },
      "execution_count": 31,
      "outputs": [
        {
          "output_type": "stream",
          "name": "stdout",
          "text": [
            "root\n",
            " |-- date: date (nullable = true)\n",
            " |-- open: double (nullable = true)\n",
            " |-- high: double (nullable = true)\n",
            " |-- low: double (nullable = true)\n",
            " |-- close: double (nullable = true)\n",
            " |-- volume: integer (nullable = true)\n",
            " |-- Name: string (nullable = true)\n",
            "\n"
          ]
        }
      ]
    },
    {
      "cell_type": "markdown",
      "source": [
        "Pergunta 1\n",
        "Quantos registros há na planilha?"
      ],
      "metadata": {
        "id": "O-7ikFJJ3Efn"
      }
    },
    {
      "cell_type": "code",
      "source": [
        "bolsavalores_df.count()"
      ],
      "metadata": {
        "colab": {
          "base_uri": "https://localhost:8080/"
        },
        "id": "XEAOi5jEJFvQ",
        "outputId": "a4e78b60-bbde-4831-de81-20f70754cf36"
      },
      "execution_count": 47,
      "outputs": [
        {
          "output_type": "execute_result",
          "data": {
            "text/plain": [
              "619040"
            ]
          },
          "metadata": {},
          "execution_count": 47
        }
      ]
    },
    {
      "cell_type": "code",
      "source": [
        "bolsavalores_df.show()"
      ],
      "metadata": {
        "colab": {
          "base_uri": "https://localhost:8080/"
        },
        "id": "jEFLEvXOJKTo",
        "outputId": "140f68ef-f537-4c88-8345-cf957a45de9b"
      },
      "execution_count": 48,
      "outputs": [
        {
          "output_type": "stream",
          "name": "stdout",
          "text": [
            "+----------+-----+-----+-----+-----+--------+----+\n",
            "|      date| open| high|  low|close|  volume|Name|\n",
            "+----------+-----+-----+-----+-----+--------+----+\n",
            "|2013-02-08|15.07|15.12|14.63|14.75| 8407500| AAL|\n",
            "|2013-02-11|14.89|15.01|14.26|14.46| 8882000| AAL|\n",
            "|2013-02-12|14.45|14.51| 14.1|14.27| 8126000| AAL|\n",
            "|2013-02-13| 14.3|14.94|14.25|14.66|10259500| AAL|\n",
            "|2013-02-14|14.94|14.96|13.16|13.99|31879900| AAL|\n",
            "|2013-02-15|13.93|14.61|13.93| 14.5|15628000| AAL|\n",
            "|2013-02-19|14.33|14.56|14.08|14.26|11354400| AAL|\n",
            "|2013-02-20|14.17|14.26|13.15|13.33|14725200| AAL|\n",
            "|2013-02-21|13.62|13.95| 12.9|13.37|11922100| AAL|\n",
            "|2013-02-22|13.57| 13.6|13.21|13.57| 6071400| AAL|\n",
            "|2013-02-25| 13.6|13.76| 13.0|13.02| 7186400| AAL|\n",
            "|2013-02-26|13.14|13.42| 12.7|13.26| 9419000| AAL|\n",
            "|2013-02-27|13.28|13.62|13.18|13.41| 7390500| AAL|\n",
            "|2013-02-28|13.49|13.63|13.39|13.43| 6143600| AAL|\n",
            "|2013-03-01|13.37|13.95|13.32|13.61| 7376800| AAL|\n",
            "|2013-03-04| 13.5|14.07|13.47| 13.9| 8174800| AAL|\n",
            "|2013-03-05|14.01|14.05|13.71|14.05| 7676100| AAL|\n",
            "|2013-03-06|14.52|14.68|14.25|14.57|13243200| AAL|\n",
            "|2013-03-07| 14.7|14.93| 14.5|14.82| 9125300| AAL|\n",
            "|2013-03-08|14.99| 15.2|14.84|14.92|10593700| AAL|\n",
            "+----------+-----+-----+-----+-----+--------+----+\n",
            "only showing top 20 rows\n",
            "\n"
          ]
        }
      ]
    },
    {
      "cell_type": "markdown",
      "source": [
        "Pergunta 2\n",
        "Quantos registros há na planilha para a ação da Apple (AAPL)?"
      ],
      "metadata": {
        "id": "hQiiq6Ql3Ll8"
      }
    },
    {
      "cell_type": "code",
      "source": [
        "bolsavalores_df.where(bolsavalores_df.Name == 'AAPL').count()"
      ],
      "metadata": {
        "colab": {
          "base_uri": "https://localhost:8080/"
        },
        "id": "50PeEamg3PcX",
        "outputId": "d71f940a-ab37-4ba9-d016-acc09284453a"
      },
      "execution_count": 49,
      "outputs": [
        {
          "output_type": "execute_result",
          "data": {
            "text/plain": [
              "1259"
            ]
          },
          "metadata": {},
          "execution_count": 49
        }
      ]
    },
    {
      "cell_type": "markdown",
      "source": [
        "Pergunta 3\n",
        "Quantas empresas distintas têm registros nessa planilha?"
      ],
      "metadata": {
        "id": "fzyehBRv4dZl"
      }
    },
    {
      "cell_type": "code",
      "source": [
        "from pyspark.sql import functions as f\n",
        "bolsavalores_df.select(f.countDistinct(bolsavalores_df.Name)).show()"
      ],
      "metadata": {
        "colab": {
          "base_uri": "https://localhost:8080/"
        },
        "id": "-fGNPiaBJOdI",
        "outputId": "dc2a51d5-b58e-4cf8-c327-414848662819"
      },
      "execution_count": 50,
      "outputs": [
        {
          "output_type": "stream",
          "name": "stdout",
          "text": [
            "+--------------------+\n",
            "|count(DISTINCT Name)|\n",
            "+--------------------+\n",
            "|                 505|\n",
            "+--------------------+\n",
            "\n"
          ]
        }
      ]
    },
    {
      "cell_type": "code",
      "source": [
        "# Importe os módulos necessários\n",
        "from pyspark.sql import SparkSession\n",
        "from pyspark.sql.functions import col, length\n"
      ],
      "metadata": {
        "id": "-bB0ru0Gp4-S"
      },
      "execution_count": 51,
      "outputs": []
    },
    {
      "cell_type": "markdown",
      "source": [
        "Pergunta 4\n",
        "Com qual frequência o preço de uma ação no fechamento é maior do que o preço na abertura?\n",
        "Grupo de escolhas da pergunta"
      ],
      "metadata": {
        "id": "OaJJYmmj6Lmn"
      }
    },
    {
      "cell_type": "code",
      "source": [
        "# Basicamente eu removi os nulos, pq tem open com valor vazio, aí fiz a compração pra gerar uma nova coluna booleana,\n",
        "# Daí como ele quer saber a frequência que o evento ocorre contei o total de positivos que seriam as ocorrências.\n",
        "# E por fim dividi pelo total de registros da tabela"
      ],
      "metadata": {
        "id": "vrmyYJVF2Nku"
      },
      "execution_count": 76,
      "outputs": []
    },
    {
      "cell_type": "code",
      "source": [
        "result = round((bolsavalores_df.select('open', 'close').filter(bolsavalores_df.open.isNotNull()).\\\n",
        "    withColumn('greather', bolsavalores_df.close > bolsavalores_df.open).where('greather')\\\n",
        "    .count()\n",
        "   / bolsavalores_df.filter(bolsavalores_df.open.isNotNull()).count()) * 100, 2)"
      ],
      "metadata": {
        "id": "h9-ralrgAa6F"
      },
      "execution_count": 74,
      "outputs": []
    },
    {
      "cell_type": "code",
      "source": [
        "print('{}%'.format(result))"
      ],
      "metadata": {
        "colab": {
          "base_uri": "https://localhost:8080/"
        },
        "id": "_GrN_xMDBS46",
        "outputId": "35ea13c2-5f91-4663-ef6d-fda04279c3c2"
      },
      "execution_count": 75,
      "outputs": [
        {
          "output_type": "stream",
          "name": "stdout",
          "text": [
            "51.53%\n"
          ]
        }
      ]
    },
    {
      "cell_type": "code",
      "source": [
        "# bolsavalores_df.select('Name').distinct().orderBy(bolsavalores_df.Name.asc()).collect()"
      ],
      "metadata": {
        "id": "nayRCuFOJSNA"
      },
      "execution_count": 54,
      "outputs": []
    },
    {
      "cell_type": "code",
      "source": [
        "bolsavalores_df.select('volume', 'date').summary().show()"
      ],
      "metadata": {
        "colab": {
          "base_uri": "https://localhost:8080/"
        },
        "id": "hsbQqWFjJY6A",
        "outputId": "2ac31940-e3ad-41f7-ec7d-b0dbe3d6c747"
      },
      "execution_count": 55,
      "outputs": [
        {
          "output_type": "stream",
          "name": "stdout",
          "text": [
            "+-------+-----------------+\n",
            "|summary|           volume|\n",
            "+-------+-----------------+\n",
            "|  count|           619040|\n",
            "|   mean|4321823.395568945|\n",
            "| stddev|8693609.511967659|\n",
            "|    min|                0|\n",
            "|    25%|          1070186|\n",
            "|    50%|          2081797|\n",
            "|    75%|          4283455|\n",
            "|    max|        618237630|\n",
            "+-------+-----------------+\n",
            "\n"
          ]
        }
      ]
    },
    {
      "cell_type": "code",
      "source": [
        "# Pergunta 10: Com qual frequência o preço mais alto do dia da ação também é o preço de fechamento? (fazer comparação, operador booleano de igualdade)"
      ],
      "metadata": {
        "id": "FMa45wzY1F59"
      },
      "execution_count": 67,
      "outputs": []
    },
    {
      "cell_type": "code",
      "source": [
        "result = round((bolsavalores_df.select('high', 'close').filter(bolsavalores_df.high.isNotNull()).\\\n",
        "    withColumn('greather', bolsavalores_df.close == bolsavalores_df.high).where('greather')\\\n",
        "    .count()\n",
        "   / bolsavalores_df.filter(bolsavalores_df.high.isNotNull()).count()) * 100, 2)"
      ],
      "metadata": {
        "id": "sLrr4DbrftxK"
      },
      "execution_count": 68,
      "outputs": []
    },
    {
      "cell_type": "code",
      "source": [
        "print('{}%'.format(result))"
      ],
      "metadata": {
        "colab": {
          "base_uri": "https://localhost:8080/"
        },
        "id": "3g01jYqOu5pl",
        "outputId": "83696d7a-3f0b-4ff1-d58b-f842d1a2abea"
      },
      "execution_count": 70,
      "outputs": [
        {
          "output_type": "stream",
          "name": "stdout",
          "text": [
            "1.2%\n"
          ]
        }
      ]
    },
    {
      "cell_type": "code",
      "source": [
        "# Pergunta 11: Em qual dia a ação da Apple mais subiu entre a abertura e o fechamento, de forma absoluta?"
      ],
      "metadata": {
        "id": "wH8q24C71Q-z"
      },
      "execution_count": 103,
      "outputs": []
    }
  ]
}