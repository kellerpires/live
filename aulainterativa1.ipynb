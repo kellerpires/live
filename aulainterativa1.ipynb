{
  "nbformat": 4,
  "nbformat_minor": 0,
  "metadata": {
    "colab": {
      "provenance": [],
      "authorship_tag": "ABX9TyNlGDAb1WfGBIIoj0qVU/eJ",
      "include_colab_link": true
    },
    "kernelspec": {
      "name": "python3",
      "display_name": "Python 3"
    },
    "language_info": {
      "name": "python"
    }
  },
  "cells": [
    {
      "cell_type": "markdown",
      "metadata": {
        "id": "view-in-github",
        "colab_type": "text"
      },
      "source": [
        "<a href=\"https://colab.research.google.com/github/kellerpires/live/blob/master/aulainterativa1.ipynb\" target=\"_parent\"><img src=\"https://colab.research.google.com/assets/colab-badge.svg\" alt=\"Open In Colab\"/></a>"
      ]
    },
    {
      "cell_type": "code",
      "execution_count": 4,
      "metadata": {
        "colab": {
          "base_uri": "https://localhost:8080/"
        },
        "id": "bLABa6m31RD8",
        "outputId": "f6cc1665-b890-43b6-a87d-11f2aa3c2560"
      },
      "outputs": [
        {
          "output_type": "stream",
          "name": "stdout",
          "text": [
            "Requirement already satisfied: pyspark in /usr/local/lib/python3.10/dist-packages (3.5.0)\n",
            "Requirement already satisfied: py4j==0.10.9.7 in /usr/local/lib/python3.10/dist-packages (from pyspark) (0.10.9.7)\n"
          ]
        }
      ],
      "source": [
        "!pip install pyspark"
      ]
    },
    {
      "cell_type": "code",
      "source": [
        "from pyspark.sql import SparkSession\n",
        "\n",
        "# Spark entry point\n",
        "spark = SparkSession \\\n",
        "    .builder \\\n",
        "    .appName(\"Aula Interativa 1 - Cientista de Dados - Apache Spark\") \\\n",
        "    .getOrCreate()\n",
        "\n",
        "spark.version"
      ],
      "metadata": {
        "colab": {
          "base_uri": "https://localhost:8080/",
          "height": 35
        },
        "id": "0KGkjNobIpi-",
        "outputId": "b884ff72-18cf-4ae1-9c53-95d067f0f350"
      },
      "execution_count": 16,
      "outputs": [
        {
          "output_type": "execute_result",
          "data": {
            "text/plain": [
              "'3.5.0'"
            ],
            "application/vnd.google.colaboratory.intrinsic+json": {
              "type": "string"
            }
          },
          "metadata": {},
          "execution_count": 16
        }
      ]
    },
    {
      "cell_type": "code",
      "source": [
        "# Carregando a planilha CSV\n",
        "titanic_df = spark.read.csv('/content/titanic-partial.csv',header='True',inferSchema='True')\n",
        "\n",
        "# Detalhes dos atributos em https://www.kaggle.com/c/titanic/data?select=train.csv\n",
        "titanic_df.printSchema()"
      ],
      "metadata": {
        "colab": {
          "base_uri": "https://localhost:8080/"
        },
        "id": "M3KcMUiuIsAG",
        "outputId": "d3060fda-7c1f-4866-d7bc-ebe03fca3ccb"
      },
      "execution_count": 17,
      "outputs": [
        {
          "output_type": "stream",
          "name": "stdout",
          "text": [
            "root\n",
            " |-- PassengerId: integer (nullable = true)\n",
            " |-- Pclass: integer (nullable = true)\n",
            " |-- Name: string (nullable = true)\n",
            " |-- Sex: string (nullable = true)\n",
            " |-- Age: double (nullable = true)\n",
            " |-- SibSp: integer (nullable = true)\n",
            " |-- Parch: integer (nullable = true)\n",
            " |-- Ticket: string (nullable = true)\n",
            " |-- Fare: double (nullable = true)\n",
            " |-- Cabin: string (nullable = true)\n",
            " |-- Embarked: string (nullable = true)\n",
            "\n"
          ]
        }
      ]
    },
    {
      "cell_type": "code",
      "source": [
        "# Carregando o arquivo JSON\n",
        "\n",
        "survived_df = spark.read.json(\"/content/titanic-survived.json\")\n",
        "survived_df.printSchema()\n",
        "survived_df.show()"
      ],
      "metadata": {
        "colab": {
          "base_uri": "https://localhost:8080/"
        },
        "id": "eH1MKDhVI2NO",
        "outputId": "98c01e7c-ba29-408e-adbe-ca54f617ad29"
      },
      "execution_count": 18,
      "outputs": [
        {
          "output_type": "stream",
          "name": "stdout",
          "text": [
            "root\n",
            " |-- PassengerId: long (nullable = true)\n",
            " |-- Survived: long (nullable = true)\n",
            "\n",
            "+-----------+--------+\n",
            "|PassengerId|Survived|\n",
            "+-----------+--------+\n",
            "|          1|       0|\n",
            "|          2|       1|\n",
            "|          3|       1|\n",
            "|          4|       1|\n",
            "|          5|       0|\n",
            "|          6|       0|\n",
            "|          7|       0|\n",
            "|          8|       0|\n",
            "|          9|       1|\n",
            "|         10|       1|\n",
            "|         11|       1|\n",
            "|         12|       1|\n",
            "|         13|       0|\n",
            "|         14|       0|\n",
            "|         15|       0|\n",
            "|         16|       1|\n",
            "|         17|       0|\n",
            "|         18|       1|\n",
            "|         19|       0|\n",
            "|         20|       1|\n",
            "+-----------+--------+\n",
            "only showing top 20 rows\n",
            "\n"
          ]
        }
      ]
    },
    {
      "cell_type": "code",
      "source": [
        "# Juntando os dois dataframes.\n",
        "\n",
        "titanic_df = titanic_df.join(survived_df, [\"PassengerId\"])\n",
        "\n",
        "titanic_df.printSchema()"
      ],
      "metadata": {
        "colab": {
          "base_uri": "https://localhost:8080/"
        },
        "id": "xI-reBGNI_bo",
        "outputId": "3a084fb7-1192-4d2b-d788-580d95783983"
      },
      "execution_count": 19,
      "outputs": [
        {
          "output_type": "stream",
          "name": "stdout",
          "text": [
            "root\n",
            " |-- PassengerId: integer (nullable = true)\n",
            " |-- Pclass: integer (nullable = true)\n",
            " |-- Name: string (nullable = true)\n",
            " |-- Sex: string (nullable = true)\n",
            " |-- Age: double (nullable = true)\n",
            " |-- SibSp: integer (nullable = true)\n",
            " |-- Parch: integer (nullable = true)\n",
            " |-- Ticket: string (nullable = true)\n",
            " |-- Fare: double (nullable = true)\n",
            " |-- Cabin: string (nullable = true)\n",
            " |-- Embarked: string (nullable = true)\n",
            " |-- Survived: long (nullable = true)\n",
            "\n"
          ]
        }
      ]
    },
    {
      "cell_type": "code",
      "source": [
        "titanic_df.count()"
      ],
      "metadata": {
        "colab": {
          "base_uri": "https://localhost:8080/"
        },
        "id": "XEAOi5jEJFvQ",
        "outputId": "47f70328-7887-4f95-eead-70d08df87fb7"
      },
      "execution_count": 20,
      "outputs": [
        {
          "output_type": "execute_result",
          "data": {
            "text/plain": [
              "891"
            ]
          },
          "metadata": {},
          "execution_count": 20
        }
      ]
    },
    {
      "cell_type": "code",
      "source": [
        "titanic_df.show()"
      ],
      "metadata": {
        "colab": {
          "base_uri": "https://localhost:8080/"
        },
        "id": "jEFLEvXOJKTo",
        "outputId": "c7385645-4ed7-4a60-b948-9b918def7051"
      },
      "execution_count": 21,
      "outputs": [
        {
          "output_type": "stream",
          "name": "stdout",
          "text": [
            "+-----------+------+--------------------+------+----+-----+-----+----------------+-------+-----+--------+--------+\n",
            "|PassengerId|Pclass|                Name|   Sex| Age|SibSp|Parch|          Ticket|   Fare|Cabin|Embarked|Survived|\n",
            "+-----------+------+--------------------+------+----+-----+-----+----------------+-------+-----+--------+--------+\n",
            "|          1|     3|Braund, Mr. Owen ...|  male|22.0|    1|    0|       A/5 21171|   7.25| NULL|       S|       0|\n",
            "|          2|     1|Cumings, Mrs. Joh...|female|38.0|    1|    0|        PC 17599|71.2833|  C85|       C|       1|\n",
            "|          3|     3|Heikkinen, Miss. ...|female|26.0|    0|    0|STON/O2. 3101282|  7.925| NULL|       S|       1|\n",
            "|          4|     1|Futrelle, Mrs. Ja...|female|35.0|    1|    0|          113803|   53.1| C123|       S|       1|\n",
            "|          5|     3|Allen, Mr. Willia...|  male|35.0|    0|    0|          373450|   8.05| NULL|       S|       0|\n",
            "|          6|     3|    Moran, Mr. James|  male|NULL|    0|    0|          330877| 8.4583| NULL|       Q|       0|\n",
            "|          7|     1|McCarthy, Mr. Tim...|  male|54.0|    0|    0|           17463|51.8625|  E46|       S|       0|\n",
            "|          8|     3|Palsson, Master. ...|  male| 2.0|    3|    1|          349909| 21.075| NULL|       S|       0|\n",
            "|          9|     3|Johnson, Mrs. Osc...|female|27.0|    0|    2|          347742|11.1333| NULL|       S|       1|\n",
            "|         10|     2|Nasser, Mrs. Nich...|female|14.0|    1|    0|          237736|30.0708| NULL|       C|       1|\n",
            "|         11|     3|Sandstrom, Miss. ...|female| 4.0|    1|    1|         PP 9549|   16.7|   G6|       S|       1|\n",
            "|         12|     1|Bonnell, Miss. El...|female|58.0|    0|    0|          113783|  26.55| C103|       S|       1|\n",
            "|         13|     3|Saundercock, Mr. ...|  male|20.0|    0|    0|       A/5. 2151|   8.05| NULL|       S|       0|\n",
            "|         14|     3|Andersson, Mr. An...|  male|39.0|    1|    5|          347082| 31.275| NULL|       S|       0|\n",
            "|         15|     3|Vestrom, Miss. Hu...|female|14.0|    0|    0|          350406| 7.8542| NULL|       S|       0|\n",
            "|         16|     2|Hewlett, Mrs. (Ma...|female|55.0|    0|    0|          248706|   16.0| NULL|       S|       1|\n",
            "|         17|     3|Rice, Master. Eugene|  male| 2.0|    4|    1|          382652| 29.125| NULL|       Q|       0|\n",
            "|         18|     2|Williams, Mr. Cha...|  male|NULL|    0|    0|          244373|   13.0| NULL|       S|       1|\n",
            "|         19|     3|Vander Planke, Mr...|female|31.0|    1|    0|          345763|   18.0| NULL|       S|       0|\n",
            "|         20|     3|Masselmani, Mrs. ...|female|NULL|    0|    0|            2649|  7.225| NULL|       C|       1|\n",
            "+-----------+------+--------------------+------+----+-----+-----+----------------+-------+-----+--------+--------+\n",
            "only showing top 20 rows\n",
            "\n"
          ]
        }
      ]
    },
    {
      "cell_type": "code",
      "source": [
        "titanic_df.select(\"Survived\", \"Name\", \"Pclass\",\"Embarked\").show()"
      ],
      "metadata": {
        "colab": {
          "base_uri": "https://localhost:8080/"
        },
        "id": "-fGNPiaBJOdI",
        "outputId": "4e194e7a-7cb1-4b6c-88f0-696b1b778229"
      },
      "execution_count": 22,
      "outputs": [
        {
          "output_type": "stream",
          "name": "stdout",
          "text": [
            "+--------+--------------------+------+--------+\n",
            "|Survived|                Name|Pclass|Embarked|\n",
            "+--------+--------------------+------+--------+\n",
            "|       0|Braund, Mr. Owen ...|     3|       S|\n",
            "|       1|Cumings, Mrs. Joh...|     1|       C|\n",
            "|       1|Heikkinen, Miss. ...|     3|       S|\n",
            "|       1|Futrelle, Mrs. Ja...|     1|       S|\n",
            "|       0|Allen, Mr. Willia...|     3|       S|\n",
            "|       0|    Moran, Mr. James|     3|       Q|\n",
            "|       0|McCarthy, Mr. Tim...|     1|       S|\n",
            "|       0|Palsson, Master. ...|     3|       S|\n",
            "|       1|Johnson, Mrs. Osc...|     3|       S|\n",
            "|       1|Nasser, Mrs. Nich...|     2|       C|\n",
            "|       1|Sandstrom, Miss. ...|     3|       S|\n",
            "|       1|Bonnell, Miss. El...|     1|       S|\n",
            "|       0|Saundercock, Mr. ...|     3|       S|\n",
            "|       0|Andersson, Mr. An...|     3|       S|\n",
            "|       0|Vestrom, Miss. Hu...|     3|       S|\n",
            "|       1|Hewlett, Mrs. (Ma...|     2|       S|\n",
            "|       0|Rice, Master. Eugene|     3|       Q|\n",
            "|       1|Williams, Mr. Cha...|     2|       S|\n",
            "|       0|Vander Planke, Mr...|     3|       S|\n",
            "|       1|Masselmani, Mrs. ...|     3|       C|\n",
            "+--------+--------------------+------+--------+\n",
            "only showing top 20 rows\n",
            "\n"
          ]
        }
      ]
    },
    {
      "cell_type": "code",
      "source": [
        "titanic_df.describe().show()"
      ],
      "metadata": {
        "colab": {
          "base_uri": "https://localhost:8080/"
        },
        "id": "nayRCuFOJSNA",
        "outputId": "72a0df56-b8f9-4da5-e6dd-2a1c33646382"
      },
      "execution_count": 23,
      "outputs": [
        {
          "output_type": "stream",
          "name": "stdout",
          "text": [
            "+-------+-----------------+------------------+--------------------+------+------------------+------------------+-------------------+------------------+-----------------+-----+--------+-------------------+\n",
            "|summary|      PassengerId|            Pclass|                Name|   Sex|               Age|             SibSp|              Parch|            Ticket|             Fare|Cabin|Embarked|           Survived|\n",
            "+-------+-----------------+------------------+--------------------+------+------------------+------------------+-------------------+------------------+-----------------+-----+--------+-------------------+\n",
            "|  count|              891|               891|                 891|   891|               714|               891|                891|               891|              891|  204|     889|                891|\n",
            "|   mean|            446.0| 2.308641975308642|                NULL|  NULL| 29.69911764705882|0.5230078563411896|0.38159371492704824|260318.54916792738| 32.2042079685746| NULL|    NULL| 0.3838383838383838|\n",
            "| stddev|257.3538420152301|0.8360712409770491|                NULL|  NULL|14.526497332334035|1.1027434322934315| 0.8060572211299488|471609.26868834975|49.69342859718089| NULL|    NULL|0.48659245426485753|\n",
            "|    min|                1|                 1|\"Andersson, Mr. A...|female|              0.42|                 0|                  0|            110152|              0.0|  A10|       C|                  0|\n",
            "|    max|              891|                 3|van Melkebeke, Mr...|  male|              80.0|                 8|                  6|         WE/P 5735|         512.3292|    T|       S|                  1|\n",
            "+-------+-----------------+------------------+--------------------+------+------------------+------------------+-------------------+------------------+-----------------+-----+--------+-------------------+\n",
            "\n"
          ]
        }
      ]
    },
    {
      "cell_type": "code",
      "source": [
        "titanic_df.describe('Age', 'Fare').show()"
      ],
      "metadata": {
        "colab": {
          "base_uri": "https://localhost:8080/"
        },
        "id": "WQywwd7TJVT4",
        "outputId": "73e87b09-236d-4e06-abba-4b214de9e086"
      },
      "execution_count": 24,
      "outputs": [
        {
          "output_type": "stream",
          "name": "stdout",
          "text": [
            "+-------+------------------+-----------------+\n",
            "|summary|               Age|             Fare|\n",
            "+-------+------------------+-----------------+\n",
            "|  count|               714|              891|\n",
            "|   mean| 29.69911764705882| 32.2042079685746|\n",
            "| stddev|14.526497332334035|49.69342859718089|\n",
            "|    min|              0.42|              0.0|\n",
            "|    max|              80.0|         512.3292|\n",
            "+-------+------------------+-----------------+\n",
            "\n"
          ]
        }
      ]
    },
    {
      "cell_type": "code",
      "source": [
        "titanic_df.select('Age', 'Fare').summary().show()"
      ],
      "metadata": {
        "colab": {
          "base_uri": "https://localhost:8080/"
        },
        "id": "hsbQqWFjJY6A",
        "outputId": "df154f8b-b202-413c-9a00-814db4102229"
      },
      "execution_count": 25,
      "outputs": [
        {
          "output_type": "stream",
          "name": "stdout",
          "text": [
            "+-------+------------------+-----------------+\n",
            "|summary|               Age|             Fare|\n",
            "+-------+------------------+-----------------+\n",
            "|  count|               714|              891|\n",
            "|   mean| 29.69911764705882| 32.2042079685746|\n",
            "| stddev|14.526497332334035|49.69342859718089|\n",
            "|    min|              0.42|              0.0|\n",
            "|    25%|              20.0|           7.8958|\n",
            "|    50%|              28.0|          14.4542|\n",
            "|    75%|              38.0|             31.0|\n",
            "|    max|              80.0|         512.3292|\n",
            "+-------+------------------+-----------------+\n",
            "\n"
          ]
        }
      ]
    },
    {
      "cell_type": "code",
      "source": [
        "# narrow ou wide?\n",
        "titanic_df.groupBy(\"Survived\").count().show()"
      ],
      "metadata": {
        "colab": {
          "base_uri": "https://localhost:8080/"
        },
        "id": "WDFH9fgGJbnY",
        "outputId": "b046bdec-6401-4dcb-8d62-810846afcbf6"
      },
      "execution_count": 26,
      "outputs": [
        {
          "output_type": "stream",
          "name": "stdout",
          "text": [
            "+--------+-----+\n",
            "|Survived|count|\n",
            "+--------+-----+\n",
            "|       0|  549|\n",
            "|       1|  342|\n",
            "+--------+-----+\n",
            "\n"
          ]
        }
      ]
    },
    {
      "cell_type": "code",
      "source": [
        "titanic_df.groupBy(\"Sex\",\"Survived\").count().show()"
      ],
      "metadata": {
        "colab": {
          "base_uri": "https://localhost:8080/"
        },
        "id": "LvvJrl1NJfDY",
        "outputId": "73617437-234d-4610-c161-347ff3219962"
      },
      "execution_count": 27,
      "outputs": [
        {
          "output_type": "stream",
          "name": "stdout",
          "text": [
            "+------+--------+-----+\n",
            "|   Sex|Survived|count|\n",
            "+------+--------+-----+\n",
            "|  male|       0|  468|\n",
            "|female|       1|  233|\n",
            "|female|       0|   81|\n",
            "|  male|       1|  109|\n",
            "+------+--------+-----+\n",
            "\n"
          ]
        }
      ]
    },
    {
      "cell_type": "code",
      "source": [
        "titanic_df.groupBy(\"Age\").count().show()"
      ],
      "metadata": {
        "colab": {
          "base_uri": "https://localhost:8080/"
        },
        "id": "HScnyaBQJhSA",
        "outputId": "6f458536-67fa-4f21-f6dc-210327527605"
      },
      "execution_count": 28,
      "outputs": [
        {
          "output_type": "stream",
          "name": "stdout",
          "text": [
            "+----+-----+\n",
            "| Age|count|\n",
            "+----+-----+\n",
            "| 8.0|    4|\n",
            "|70.0|    2|\n",
            "| 7.0|    3|\n",
            "|20.5|    1|\n",
            "|49.0|    6|\n",
            "|29.0|   20|\n",
            "|40.5|    2|\n",
            "|64.0|    2|\n",
            "|47.0|    9|\n",
            "|42.0|   13|\n",
            "|24.5|    1|\n",
            "|44.0|    9|\n",
            "|35.0|   18|\n",
            "|NULL|  177|\n",
            "|62.0|    4|\n",
            "|18.0|   26|\n",
            "|80.0|    1|\n",
            "|34.5|    1|\n",
            "|39.0|   14|\n",
            "| 1.0|    7|\n",
            "+----+-----+\n",
            "only showing top 20 rows\n",
            "\n"
          ]
        }
      ]
    },
    {
      "cell_type": "code",
      "source": [
        "titanic_df.groupBy(\"Pclass\",\"Survived\").count().show()"
      ],
      "metadata": {
        "colab": {
          "base_uri": "https://localhost:8080/"
        },
        "id": "G66HIdMkJj9Y",
        "outputId": "a6367447-0c05-4ef7-ac8c-e9ea519c23d6"
      },
      "execution_count": 29,
      "outputs": [
        {
          "output_type": "stream",
          "name": "stdout",
          "text": [
            "+------+--------+-----+\n",
            "|Pclass|Survived|count|\n",
            "+------+--------+-----+\n",
            "|     1|       0|   80|\n",
            "|     3|       1|  119|\n",
            "|     1|       1|  136|\n",
            "|     2|       1|   87|\n",
            "|     3|       0|  372|\n",
            "|     2|       0|   97|\n",
            "+------+--------+-----+\n",
            "\n"
          ]
        }
      ]
    },
    {
      "cell_type": "code",
      "source": [
        "pandas_df = titanic_df.toPandas()\n",
        "\n",
        "pandas_df.info()"
      ],
      "metadata": {
        "colab": {
          "base_uri": "https://localhost:8080/"
        },
        "id": "NR2GDGTzJm7A",
        "outputId": "429482e2-1cff-4d82-8374-6a0649148a29"
      },
      "execution_count": 30,
      "outputs": [
        {
          "output_type": "stream",
          "name": "stdout",
          "text": [
            "<class 'pandas.core.frame.DataFrame'>\n",
            "RangeIndex: 891 entries, 0 to 890\n",
            "Data columns (total 12 columns):\n",
            " #   Column       Non-Null Count  Dtype  \n",
            "---  ------       --------------  -----  \n",
            " 0   PassengerId  891 non-null    int32  \n",
            " 1   Pclass       891 non-null    int32  \n",
            " 2   Name         891 non-null    object \n",
            " 3   Sex          891 non-null    object \n",
            " 4   Age          714 non-null    float64\n",
            " 5   SibSp        891 non-null    int32  \n",
            " 6   Parch        891 non-null    int32  \n",
            " 7   Ticket       891 non-null    object \n",
            " 8   Fare         891 non-null    float64\n",
            " 9   Cabin        204 non-null    object \n",
            " 10  Embarked     889 non-null    object \n",
            " 11  Survived     891 non-null    int64  \n",
            "dtypes: float64(2), int32(4), int64(1), object(5)\n",
            "memory usage: 69.7+ KB\n"
          ]
        }
      ]
    },
    {
      "cell_type": "code",
      "source": [
        "# EMBARKED\n",
        "titanic_df.groupBy(\"Embarked\").count().show()"
      ],
      "metadata": {
        "colab": {
          "base_uri": "https://localhost:8080/"
        },
        "id": "ItIudKAfJwPs",
        "outputId": "15e6c3c4-e1af-4baf-a13b-5b921d87ef97"
      },
      "execution_count": 32,
      "outputs": [
        {
          "output_type": "stream",
          "name": "stdout",
          "text": [
            "+--------+-----+\n",
            "|Embarked|count|\n",
            "+--------+-----+\n",
            "|       Q|   77|\n",
            "|    NULL|    2|\n",
            "|       C|  168|\n",
            "|       S|  644|\n",
            "+--------+-----+\n",
            "\n"
          ]
        }
      ]
    },
    {
      "cell_type": "code",
      "source": [
        "# narrow ou wide?\n",
        "titanic_df = titanic_df.na.fill({\"Embarked\" : 'S'})"
      ],
      "metadata": {
        "id": "jnNW2KQPKImg"
      },
      "execution_count": 33,
      "outputs": []
    },
    {
      "cell_type": "code",
      "source": [
        "titanic_df.groupBy(\"Embarked\").count().show()"
      ],
      "metadata": {
        "colab": {
          "base_uri": "https://localhost:8080/"
        },
        "id": "A8HcQOJ4KLdQ",
        "outputId": "2bbc3937-e015-448f-b322-1a47c9eba5d5"
      },
      "execution_count": 34,
      "outputs": [
        {
          "output_type": "stream",
          "name": "stdout",
          "text": [
            "+--------+-----+\n",
            "|Embarked|count|\n",
            "+--------+-----+\n",
            "|       Q|   77|\n",
            "|       C|  168|\n",
            "|       S|  646|\n",
            "+--------+-----+\n",
            "\n"
          ]
        }
      ]
    },
    {
      "cell_type": "code",
      "source": [
        "# AGE\n",
        "titanic_df.describe('Age').show()"
      ],
      "metadata": {
        "colab": {
          "base_uri": "https://localhost:8080/"
        },
        "id": "dyhCbBK2KOvI",
        "outputId": "d5b4ebd5-6491-4e6c-e9a1-7d592993bc8e"
      },
      "execution_count": 35,
      "outputs": [
        {
          "output_type": "stream",
          "name": "stdout",
          "text": [
            "+-------+------------------+\n",
            "|summary|               Age|\n",
            "+-------+------------------+\n",
            "|  count|               714|\n",
            "|   mean| 29.69911764705882|\n",
            "| stddev|14.526497332334035|\n",
            "|    min|              0.42|\n",
            "|    max|              80.0|\n",
            "+-------+------------------+\n",
            "\n"
          ]
        }
      ]
    },
    {
      "cell_type": "code",
      "source": [
        "from pyspark.sql.functions import col, regexp_extract\n",
        "\n",
        "\n",
        "titanic_df = titanic_df.withColumn(\"Saudacao\", regexp_extract(col(\"Name\"),\"([A-Za-z]+)\\.\",1))\n",
        "\n",
        "# Miss: Senhorita\n",
        "# Mrs: Senhora\n",
        "titanic_df.select(\"Saudacao\", \"Name\").show()"
      ],
      "metadata": {
        "colab": {
          "base_uri": "https://localhost:8080/"
        },
        "id": "vKMShi7dKRK4",
        "outputId": "93e4b593-b3c4-41f2-c6fb-43746b3bf48d"
      },
      "execution_count": 36,
      "outputs": [
        {
          "output_type": "stream",
          "name": "stdout",
          "text": [
            "+--------+--------------------+\n",
            "|Saudacao|                Name|\n",
            "+--------+--------------------+\n",
            "|      Mr|Braund, Mr. Owen ...|\n",
            "|     Mrs|Cumings, Mrs. Joh...|\n",
            "|    Miss|Heikkinen, Miss. ...|\n",
            "|     Mrs|Futrelle, Mrs. Ja...|\n",
            "|      Mr|Allen, Mr. Willia...|\n",
            "|      Mr|    Moran, Mr. James|\n",
            "|      Mr|McCarthy, Mr. Tim...|\n",
            "|  Master|Palsson, Master. ...|\n",
            "|     Mrs|Johnson, Mrs. Osc...|\n",
            "|     Mrs|Nasser, Mrs. Nich...|\n",
            "|    Miss|Sandstrom, Miss. ...|\n",
            "|    Miss|Bonnell, Miss. El...|\n",
            "|      Mr|Saundercock, Mr. ...|\n",
            "|      Mr|Andersson, Mr. An...|\n",
            "|    Miss|Vestrom, Miss. Hu...|\n",
            "|     Mrs|Hewlett, Mrs. (Ma...|\n",
            "|  Master|Rice, Master. Eugene|\n",
            "|      Mr|Williams, Mr. Cha...|\n",
            "|     Mrs|Vander Planke, Mr...|\n",
            "|     Mrs|Masselmani, Mrs. ...|\n",
            "+--------+--------------------+\n",
            "only showing top 20 rows\n",
            "\n"
          ]
        }
      ]
    },
    {
      "cell_type": "code",
      "source": [
        "titanic_df.select(\"Saudacao\").distinct().show()"
      ],
      "metadata": {
        "colab": {
          "base_uri": "https://localhost:8080/"
        },
        "id": "G0geyy3lKTcA",
        "outputId": "2e625415-f990-49d9-9c2e-0d06e14277cc"
      },
      "execution_count": 37,
      "outputs": [
        {
          "output_type": "stream",
          "name": "stdout",
          "text": [
            "+--------+\n",
            "|Saudacao|\n",
            "+--------+\n",
            "|     Don|\n",
            "|    Miss|\n",
            "|Countess|\n",
            "|     Col|\n",
            "|     Rev|\n",
            "|    Lady|\n",
            "|  Master|\n",
            "|     Mme|\n",
            "|    Capt|\n",
            "|      Mr|\n",
            "|      Dr|\n",
            "|     Mrs|\n",
            "|     Sir|\n",
            "|Jonkheer|\n",
            "|    Mlle|\n",
            "|   Major|\n",
            "|      Ms|\n",
            "+--------+\n",
            "\n"
          ]
        }
      ]
    },
    {
      "cell_type": "code",
      "source": [
        "titanic_df = titanic_df.replace(['Mlle','Mme', 'Ms', 'Dr','Major','Lady','Countess','Jonkheer','Col','Rev','Capt','Sir','Don'],\n",
        "               ['Miss','Miss','Miss','Mr','Mr',  'Mrs',  'Mrs',  'Other',  'Other','Other','Mr','Mr','Mr'])"
      ],
      "metadata": {
        "id": "o-fF8w8OKV4A"
      },
      "execution_count": 38,
      "outputs": []
    },
    {
      "cell_type": "code",
      "source": [
        "titanic_df.select(\"Saudacao\").distinct().show()"
      ],
      "metadata": {
        "colab": {
          "base_uri": "https://localhost:8080/"
        },
        "id": "HcSNbQosKY53",
        "outputId": "ed0ecdf0-772a-4b59-a485-ae10f15a2b8d"
      },
      "execution_count": 39,
      "outputs": [
        {
          "output_type": "stream",
          "name": "stdout",
          "text": [
            "+--------+\n",
            "|Saudacao|\n",
            "+--------+\n",
            "|    Miss|\n",
            "|   Other|\n",
            "|  Master|\n",
            "|      Mr|\n",
            "|     Mrs|\n",
            "+--------+\n",
            "\n"
          ]
        }
      ]
    },
    {
      "cell_type": "code",
      "source": [
        "titanic_df.groupby('Saudacao').avg('Age').collect()"
      ],
      "metadata": {
        "colab": {
          "base_uri": "https://localhost:8080/"
        },
        "id": "xCG01iIrKa_I",
        "outputId": "d08f9710-cd99-4fd6-a1f2-3131d08fe97f"
      },
      "execution_count": 40,
      "outputs": [
        {
          "output_type": "execute_result",
          "data": {
            "text/plain": [
              "[Row(Saudacao='Miss', avg(Age)=21.86),\n",
              " Row(Saudacao='Other', avg(Age)=45.888888888888886),\n",
              " Row(Saudacao='Master', avg(Age)=4.574166666666667),\n",
              " Row(Saudacao='Mr', avg(Age)=32.73960880195599),\n",
              " Row(Saudacao='Mrs', avg(Age)=35.981818181818184)]"
            ]
          },
          "metadata": {},
          "execution_count": 40
        }
      ]
    },
    {
      "cell_type": "code",
      "source": [
        "from pyspark.sql.functions import col\n",
        "\n",
        "titanic_df.filter(col(\"Saudacao\") == 'Miss').select(\"Name\", \"Age\", \"Saudacao\").show(5)\n",
        "\n",
        "titanic_df.filter(titanic_df.Saudacao == 'Miss').select(\"Name\", \"Age\", \"Saudacao\").show(5)"
      ],
      "metadata": {
        "colab": {
          "base_uri": "https://localhost:8080/"
        },
        "id": "g5hVYmwdKdAQ",
        "outputId": "d40ed4eb-4303-41dc-8f2c-62f99bd50912"
      },
      "execution_count": 41,
      "outputs": [
        {
          "output_type": "stream",
          "name": "stdout",
          "text": [
            "+--------------------+----+--------+\n",
            "|                Name| Age|Saudacao|\n",
            "+--------------------+----+--------+\n",
            "|Heikkinen, Miss. ...|26.0|    Miss|\n",
            "|Sandstrom, Miss. ...| 4.0|    Miss|\n",
            "|Bonnell, Miss. El...|58.0|    Miss|\n",
            "|Vestrom, Miss. Hu...|14.0|    Miss|\n",
            "|\"McGowan, Miss. A...|15.0|    Miss|\n",
            "+--------------------+----+--------+\n",
            "only showing top 5 rows\n",
            "\n",
            "+--------------------+----+--------+\n",
            "|                Name| Age|Saudacao|\n",
            "+--------------------+----+--------+\n",
            "|Heikkinen, Miss. ...|26.0|    Miss|\n",
            "|Sandstrom, Miss. ...| 4.0|    Miss|\n",
            "|Bonnell, Miss. El...|58.0|    Miss|\n",
            "|Vestrom, Miss. Hu...|14.0|    Miss|\n",
            "|\"McGowan, Miss. A...|15.0|    Miss|\n",
            "+--------------------+----+--------+\n",
            "only showing top 5 rows\n",
            "\n"
          ]
        }
      ]
    },
    {
      "cell_type": "code",
      "source": [
        "# Não tem mais idade faltante!\n",
        "titanic_df.describe('Age').show()"
      ],
      "metadata": {
        "colab": {
          "base_uri": "https://localhost:8080/"
        },
        "id": "5NtwNGn8KgFo",
        "outputId": "74055a06-74ce-480d-a60b-eaa901a2128d"
      },
      "execution_count": 42,
      "outputs": [
        {
          "output_type": "stream",
          "name": "stdout",
          "text": [
            "+-------+------------------+\n",
            "|summary|               Age|\n",
            "+-------+------------------+\n",
            "|  count|               714|\n",
            "|   mean| 29.69911764705882|\n",
            "| stddev|14.526497332334035|\n",
            "|    min|              0.42|\n",
            "|    max|              80.0|\n",
            "+-------+------------------+\n",
            "\n"
          ]
        }
      ]
    },
    {
      "cell_type": "code",
      "source": [
        "from pyspark.sql.functions import when\n",
        "\n",
        "titanic_df = titanic_df.withColumn(\"Age\",when((titanic_df[\"Saudacao\"] == \"Miss\") & (titanic_df[\"Age\"].isNull()), 22).otherwise(titanic_df[\"Age\"]))\n",
        "titanic_df = titanic_df.withColumn(\"Age\",when((titanic_df[\"Saudacao\"] == \"Other\") & (titanic_df[\"Age\"].isNull()), 46).otherwise(titanic_df[\"Age\"]))\n",
        "titanic_df = titanic_df.withColumn(\"Age\",when((titanic_df[\"Saudacao\"] == \"Master\") & (titanic_df[\"Age\"].isNull()), 5).otherwise(titanic_df[\"Age\"]))\n",
        "titanic_df = titanic_df.withColumn(\"Age\",when((titanic_df[\"Saudacao\"] == \"Mr\") & (titanic_df[\"Age\"].isNull()), 33).otherwise(titanic_df[\"Age\"]))\n",
        "titanic_df = titanic_df.withColumn(\"Age\",when((titanic_df[\"Saudacao\"] == \"Mrs\") & (titanic_df[\"Age\"].isNull()), 36).otherwise(titanic_df[\"Age\"]))"
      ],
      "metadata": {
        "id": "Gxykc8BDKii_"
      },
      "execution_count": 43,
      "outputs": []
    },
    {
      "cell_type": "code",
      "source": [
        "titanic_df.filter(col(\"Saudacao\") == 'Master').describe('Age').show()"
      ],
      "metadata": {
        "colab": {
          "base_uri": "https://localhost:8080/"
        },
        "id": "N6JdJ0HYKlC6",
        "outputId": "dc379506-4285-4260-ffb1-beb1e852b783"
      },
      "execution_count": 44,
      "outputs": [
        {
          "output_type": "stream",
          "name": "stdout",
          "text": [
            "+-------+-----------------+\n",
            "|summary|              Age|\n",
            "+-------+-----------------+\n",
            "|  count|               40|\n",
            "|   mean|          4.61675|\n",
            "| stddev|3.431656090816943|\n",
            "|    min|             0.42|\n",
            "|    max|             12.0|\n",
            "+-------+-----------------+\n",
            "\n"
          ]
        }
      ]
    },
    {
      "cell_type": "code",
      "source": [
        "titanic_df.describe(\"Cabin\").show()"
      ],
      "metadata": {
        "colab": {
          "base_uri": "https://localhost:8080/"
        },
        "id": "I8LTYl4yKnv7",
        "outputId": "e3dffb04-c1d6-4786-b592-bb55269df22d"
      },
      "execution_count": 45,
      "outputs": [
        {
          "output_type": "stream",
          "name": "stdout",
          "text": [
            "+-------+-----+\n",
            "|summary|Cabin|\n",
            "+-------+-----+\n",
            "|  count|  204|\n",
            "|   mean| NULL|\n",
            "| stddev| NULL|\n",
            "|    min|  A10|\n",
            "|    max|    T|\n",
            "+-------+-----+\n",
            "\n"
          ]
        }
      ]
    },
    {
      "cell_type": "code",
      "source": [
        "titanic_df = titanic_df.drop(\"Cabin\")\n",
        "\n",
        "titanic_df.printSchema()"
      ],
      "metadata": {
        "colab": {
          "base_uri": "https://localhost:8080/"
        },
        "id": "TMYzeR1vKqVq",
        "outputId": "e1996c88-8bb3-4686-e17c-ac36a628ee57"
      },
      "execution_count": 46,
      "outputs": [
        {
          "output_type": "stream",
          "name": "stdout",
          "text": [
            "root\n",
            " |-- PassengerId: integer (nullable = true)\n",
            " |-- Pclass: integer (nullable = true)\n",
            " |-- Name: string (nullable = true)\n",
            " |-- Sex: string (nullable = true)\n",
            " |-- Age: double (nullable = true)\n",
            " |-- SibSp: integer (nullable = true)\n",
            " |-- Parch: integer (nullable = true)\n",
            " |-- Ticket: string (nullable = true)\n",
            " |-- Fare: double (nullable = true)\n",
            " |-- Embarked: string (nullable = false)\n",
            " |-- Survived: long (nullable = true)\n",
            " |-- Saudacao: string (nullable = true)\n",
            "\n"
          ]
        }
      ]
    },
    {
      "cell_type": "code",
      "source": [
        "titanic_df = titanic_df.withColumn(\"Family_Size\",col('SibSp')+col('Parch') + 1)"
      ],
      "metadata": {
        "id": "NDbKM1vRKsqK"
      },
      "execution_count": 47,
      "outputs": []
    },
    {
      "cell_type": "code",
      "source": [
        "from pyspark.sql.functions import col\n",
        "\n",
        "\n",
        "titanic_df.groupBy(\"Family_Size\").count().show()"
      ],
      "metadata": {
        "colab": {
          "base_uri": "https://localhost:8080/"
        },
        "id": "tSy1Xm7iKwdK",
        "outputId": "259a0231-5c64-42a2-88b3-14bbbab92aa6"
      },
      "execution_count": 48,
      "outputs": [
        {
          "output_type": "stream",
          "name": "stdout",
          "text": [
            "+-----------+-----+\n",
            "|Family_Size|count|\n",
            "+-----------+-----+\n",
            "|          1|  537|\n",
            "|          6|   22|\n",
            "|          3|  102|\n",
            "|          5|   15|\n",
            "|          4|   29|\n",
            "|          8|    6|\n",
            "|          7|   12|\n",
            "|         11|    7|\n",
            "|          2|  161|\n",
            "+-----------+-----+\n",
            "\n"
          ]
        }
      ]
    },
    {
      "cell_type": "code",
      "source": [
        "from pyspark.sql.functions import asc\n",
        "\n",
        "titanic_df.select(\"Name\", \"Family_Size\").orderBy(col(\"Family_Size\").desc()).show()"
      ],
      "metadata": {
        "colab": {
          "base_uri": "https://localhost:8080/"
        },
        "id": "7_JMtNHrKyIK",
        "outputId": "93efcec1-2009-403e-aade-b49d36ad2e98"
      },
      "execution_count": 49,
      "outputs": [
        {
          "output_type": "stream",
          "name": "stdout",
          "text": [
            "+--------------------+-----------+\n",
            "|                Name|Family_Size|\n",
            "+--------------------+-----------+\n",
            "|Sage, Master. Tho...|         11|\n",
            "|Sage, Miss. Const...|         11|\n",
            "| Sage, Mr. Frederick|         11|\n",
            "|Sage, Mr. George ...|         11|\n",
            "|Sage, Miss. Stell...|         11|\n",
            "|Sage, Mr. Douglas...|         11|\n",
            "|\"Sage, Miss. Doro...|         11|\n",
            "|Goodwin, Master. ...|          8|\n",
            "|Goodwin, Miss. Li...|          8|\n",
            "|Goodwin, Master. ...|          8|\n",
            "|Goodwin, Master. ...|          8|\n",
            "|Goodwin, Mrs. Fre...|          8|\n",
            "|Goodwin, Mr. Char...|          8|\n",
            "|Andersson, Mr. An...|          7|\n",
            "|Asplund, Mrs. Car...|          7|\n",
            "|Andersson, Miss. ...|          7|\n",
            "|Andersson, Miss. ...|          7|\n",
            "|Asplund, Master. ...|          7|\n",
            "|Asplund, Miss. Li...|          7|\n",
            "|Asplund, Master. ...|          7|\n",
            "+--------------------+-----------+\n",
            "only showing top 20 rows\n",
            "\n"
          ]
        }
      ]
    },
    {
      "cell_type": "code",
      "source": [
        "from pyspark.sql.functions import lit\n",
        "\n",
        "titanic_df = titanic_df.withColumn('Alone',lit(0))"
      ],
      "metadata": {
        "id": "mk3ycn3zK0k4"
      },
      "execution_count": 50,
      "outputs": []
    },
    {
      "cell_type": "code",
      "source": [
        "from pyspark.sql.functions import lit\n",
        "\n",
        "\n",
        "titanic_df = titanic_df.withColumn('Alone',lit(0))\n",
        "titanic_df = titanic_df.withColumn(\"Alone\",when(titanic_df[\"Family_Size\"] == 0, 1).otherwise(titanic_df[\"Alone\"]))"
      ],
      "metadata": {
        "id": "UsZ-rM1FK3dQ"
      },
      "execution_count": 51,
      "outputs": []
    },
    {
      "cell_type": "code",
      "source": [
        "titanic_df.columns"
      ],
      "metadata": {
        "colab": {
          "base_uri": "https://localhost:8080/"
        },
        "id": "umRXm7NcK6Aw",
        "outputId": "415c9271-f08b-4d36-c955-fdc59605cc1d"
      },
      "execution_count": 52,
      "outputs": [
        {
          "output_type": "execute_result",
          "data": {
            "text/plain": [
              "['PassengerId',\n",
              " 'Pclass',\n",
              " 'Name',\n",
              " 'Sex',\n",
              " 'Age',\n",
              " 'SibSp',\n",
              " 'Parch',\n",
              " 'Ticket',\n",
              " 'Fare',\n",
              " 'Embarked',\n",
              " 'Survived',\n",
              " 'Saudacao',\n",
              " 'Family_Size',\n",
              " 'Alone']"
            ]
          },
          "metadata": {},
          "execution_count": 52
        }
      ]
    },
    {
      "cell_type": "code",
      "source": [
        "spark.conf.set(\"spark.sql.codegen.wholeStage\", False)\n",
        "\n",
        "titanic_df.filter(titanic_df.Age > 70).show()"
      ],
      "metadata": {
        "colab": {
          "base_uri": "https://localhost:8080/"
        },
        "id": "Uftyxw9-K8Y4",
        "outputId": "da982c02-432c-467c-eddf-e439e5fd9926"
      },
      "execution_count": 53,
      "outputs": [
        {
          "output_type": "stream",
          "name": "stdout",
          "text": [
            "+-----------+------+--------------------+----+----+-----+-----+--------+-------+--------+--------+--------+-----------+-----+\n",
            "|PassengerId|Pclass|                Name| Sex| Age|SibSp|Parch|  Ticket|   Fare|Embarked|Survived|Saudacao|Family_Size|Alone|\n",
            "+-----------+------+--------------------+----+----+-----+-----+--------+-------+--------+--------+--------+-----------+-----+\n",
            "|         97|     1|Goldschmidt, Mr. ...|male|71.0|    0|    0|PC 17754|34.6542|       C|       0|      Mr|          1|    0|\n",
            "|        117|     3|Connors, Mr. Patrick|male|70.5|    0|    0|  370369|   7.75|       Q|       0|      Mr|          1|    0|\n",
            "|        494|     1|Artagaveytia, Mr....|male|71.0|    0|    0|PC 17609|49.5042|       C|       0|      Mr|          1|    0|\n",
            "|        631|     1|Barkworth, Mr. Al...|male|80.0|    0|    0|   27042|   30.0|       S|       1|      Mr|          1|    0|\n",
            "|        852|     3| Svensson, Mr. Johan|male|74.0|    0|    0|  347060|  7.775|       S|       0|      Mr|          1|    0|\n",
            "+-----------+------+--------------------+----+----+-----+-----+--------+-------+--------+--------+--------+-----------+-----+\n",
            "\n"
          ]
        }
      ]
    },
    {
      "cell_type": "code",
      "source": [
        "from pyspark.sql.functions import desc\n",
        "\n",
        "\n",
        "titanic_df.orderBy(desc(\"age\")).show(1)"
      ],
      "metadata": {
        "colab": {
          "base_uri": "https://localhost:8080/"
        },
        "id": "yRo7vbgwK_Wo",
        "outputId": "bf638312-ec05-4394-f2e3-b2d827fd6679"
      },
      "execution_count": 54,
      "outputs": [
        {
          "output_type": "stream",
          "name": "stdout",
          "text": [
            "+-----------+------+--------------------+----+----+-----+-----+------+----+--------+--------+--------+-----------+-----+\n",
            "|PassengerId|Pclass|                Name| Sex| Age|SibSp|Parch|Ticket|Fare|Embarked|Survived|Saudacao|Family_Size|Alone|\n",
            "+-----------+------+--------------------+----+----+-----+-----+------+----+--------+--------+--------+-----------+-----+\n",
            "|        631|     1|Barkworth, Mr. Al...|male|80.0|    0|    0| 27042|30.0|       S|       1|      Mr|          1|    0|\n",
            "+-----------+------+--------------------+----+----+-----+-----+------+----+--------+--------+--------+-----------+-----+\n",
            "only showing top 1 row\n",
            "\n"
          ]
        }
      ]
    },
    {
      "cell_type": "code",
      "source": [
        "from pyspark.sql.functions import asc\n",
        "\n",
        "titanic_df.orderBy(asc(\"age\")).show(1)"
      ],
      "metadata": {
        "colab": {
          "base_uri": "https://localhost:8080/"
        },
        "id": "T1SR1O1PLCB4",
        "outputId": "9e1c5450-10c9-402b-f780-1583c29d5990"
      },
      "execution_count": 55,
      "outputs": [
        {
          "output_type": "stream",
          "name": "stdout",
          "text": [
            "+-----------+------+--------------------+----+----+-----+-----+------+------+--------+--------+--------+-----------+-----+\n",
            "|PassengerId|Pclass|                Name| Sex| Age|SibSp|Parch|Ticket|  Fare|Embarked|Survived|Saudacao|Family_Size|Alone|\n",
            "+-----------+------+--------------------+----+----+-----+-----+------+------+--------+--------+--------+-----------+-----+\n",
            "|        804|     3|Thomas, Master. A...|male|0.42|    0|    1|  2625|8.5167|       C|       1|  Master|          2|    0|\n",
            "+-----------+------+--------------------+----+----+-----+-----+------+------+--------+--------+--------+-----------+-----+\n",
            "only showing top 1 row\n",
            "\n"
          ]
        }
      ]
    },
    {
      "cell_type": "code",
      "source": [
        "titanic_df.groupBy('survived').agg({'age': 'avg'}).show()"
      ],
      "metadata": {
        "colab": {
          "base_uri": "https://localhost:8080/"
        },
        "id": "Yfie5APpLEIw",
        "outputId": "6d5a37f5-9431-49a8-feda-95867bbd9a80"
      },
      "execution_count": 56,
      "outputs": [
        {
          "output_type": "stream",
          "name": "stdout",
          "text": [
            "+--------+-----------------+\n",
            "|survived|         avg(age)|\n",
            "+--------+-----------------+\n",
            "|       0|30.80054644808743|\n",
            "|       1|28.30312865497076|\n",
            "+--------+-----------------+\n",
            "\n"
          ]
        }
      ]
    },
    {
      "cell_type": "code",
      "source": [
        "titanic_df.stat.corr(\"age\", \"fare\")"
      ],
      "metadata": {
        "colab": {
          "base_uri": "https://localhost:8080/"
        },
        "id": "nLRuqNdILGdY",
        "outputId": "a7983f9d-f7f1-4e43-b8ad-43baaa26f89f"
      },
      "execution_count": 57,
      "outputs": [
        {
          "output_type": "execute_result",
          "data": {
            "text/plain": [
              "0.08908669546299611"
            ]
          },
          "metadata": {},
          "execution_count": 57
        }
      ]
    },
    {
      "cell_type": "code",
      "source": [
        "titanic_df.stat.corr(\"age\", \"family_size\")"
      ],
      "metadata": {
        "colab": {
          "base_uri": "https://localhost:8080/"
        },
        "id": "fCUNxwaILIgw",
        "outputId": "8b573728-371e-40fe-8da0-73264137d491"
      },
      "execution_count": 58,
      "outputs": [
        {
          "output_type": "execute_result",
          "data": {
            "text/plain": [
              "-0.28226043774238513"
            ]
          },
          "metadata": {},
          "execution_count": 58
        }
      ]
    },
    {
      "cell_type": "code",
      "source": [
        "# https://spark.apache.org/docs/latest/api/python//reference/pyspark.sql/api/pyspark.sql.DataFrameStatFunctions.html#pyspark.sql.DataFrameStatFunctions\n",
        "titanic_df.stat.crosstab(\"Embarked\", \"PClass\").show()"
      ],
      "metadata": {
        "colab": {
          "base_uri": "https://localhost:8080/"
        },
        "id": "YtGO-MFRLLMo",
        "outputId": "918070f7-0206-4fac-d427-35e096010cc0"
      },
      "execution_count": 59,
      "outputs": [
        {
          "output_type": "stream",
          "name": "stdout",
          "text": [
            "+---------------+---+---+---+\n",
            "|Embarked_PClass|  1|  2|  3|\n",
            "+---------------+---+---+---+\n",
            "|              Q|  2|  3| 72|\n",
            "|              C| 85| 17| 66|\n",
            "|              S|129|164|353|\n",
            "+---------------+---+---+---+\n",
            "\n"
          ]
        }
      ]
    },
    {
      "cell_type": "code",
      "source": [
        "titanic_df.groupBy('pclass').agg({'fare': 'avg'}).show()"
      ],
      "metadata": {
        "colab": {
          "base_uri": "https://localhost:8080/"
        },
        "id": "MgnZ513zLNqw",
        "outputId": "89bb7c2b-2503-4ef6-cf9b-87710489851e"
      },
      "execution_count": 60,
      "outputs": [
        {
          "output_type": "stream",
          "name": "stdout",
          "text": [
            "+------+------------------+\n",
            "|pclass|         avg(fare)|\n",
            "+------+------------------+\n",
            "|     1| 84.15468749999992|\n",
            "|     3|13.675550101832997|\n",
            "|     2| 20.66218315217391|\n",
            "+------+------------------+\n",
            "\n"
          ]
        }
      ]
    },
    {
      "cell_type": "code",
      "source": [
        "titanic_df.filter(titanic_df.Sex == 'female') \\\n",
        "    .groupBy('pclass')\\\n",
        "    .agg({'fare': 'avg'}).show()"
      ],
      "metadata": {
        "colab": {
          "base_uri": "https://localhost:8080/"
        },
        "id": "HI12hdy6LQsQ",
        "outputId": "765a7c01-c20e-4108-eb69-eeaa37604417"
      },
      "execution_count": 61,
      "outputs": [
        {
          "output_type": "stream",
          "name": "stdout",
          "text": [
            "+------+------------------+\n",
            "|pclass|         avg(fare)|\n",
            "+------+------------------+\n",
            "|     1|106.12579787234041|\n",
            "|     3|16.118809722222224|\n",
            "|     2| 21.97012105263158|\n",
            "+------+------------------+\n",
            "\n"
          ]
        }
      ]
    },
    {
      "cell_type": "code",
      "source": [
        "# UDFs ajudam plugar funções complexas\n",
        "# extrair o last Name\n",
        "\n",
        "from pyspark.sql.types import StringType\n",
        "from pyspark.sql.functions import udf\n",
        "\n",
        "def getLastName(str):\n",
        "    return str.split(\",\")[0]\n",
        "\n",
        "getLastNameUDF = udf(lambda z:getLastName(z),StringType())\n",
        "\n",
        "titanic_df = titanic_df.withColumn(\"lastName\", getLastNameUDF(titanic_df.Name))"
      ],
      "metadata": {
        "id": "-ECi6pTlLS1Q"
      },
      "execution_count": 62,
      "outputs": []
    },
    {
      "cell_type": "code",
      "source": [
        "titanic_df.select(\"lastName\").distinct().show()"
      ],
      "metadata": {
        "colab": {
          "base_uri": "https://localhost:8080/"
        },
        "id": "GabIiabeLVTw",
        "outputId": "c0f6038b-7d6d-4e37-9a48-c88df9cc16dc"
      },
      "execution_count": 63,
      "outputs": [
        {
          "output_type": "stream",
          "name": "stdout",
          "text": [
            "+-------------+\n",
            "|     lastName|\n",
            "+-------------+\n",
            "|     \"Madigan|\n",
            "|     Pavlovic|\n",
            "|         Saad|\n",
            "|      Palsson|\n",
            "| Thorneycroft|\n",
            "|     Meanwell|\n",
            "|      Markoff|\n",
            "|       Porter|\n",
            "|     Harrison|\n",
            "|     Bissette|\n",
            "|        Hampe|\n",
            "|Lemberopolous|\n",
            "|      Ekstrom|\n",
            "|       Boulos|\n",
            "|       Bourke|\n",
            "|     McGovern|\n",
            "|     Kvillner|\n",
            "|   Goldenberg|\n",
            "|        Keefe|\n",
            "|       Leader|\n",
            "+-------------+\n",
            "only showing top 20 rows\n",
            "\n"
          ]
        }
      ]
    },
    {
      "cell_type": "code",
      "source": [
        "titanic_df.groupBy(\"lastName\").count().show()"
      ],
      "metadata": {
        "colab": {
          "base_uri": "https://localhost:8080/"
        },
        "id": "-SDLZY5ALX8I",
        "outputId": "a2efdc70-da78-4b5c-e727-a06d55aff3d3"
      },
      "execution_count": 64,
      "outputs": [
        {
          "output_type": "stream",
          "name": "stdout",
          "text": [
            "+-------------+-----+\n",
            "|     lastName|count|\n",
            "+-------------+-----+\n",
            "|     \"Madigan|    1|\n",
            "|     Pavlovic|    1|\n",
            "|         Saad|    2|\n",
            "|      Palsson|    4|\n",
            "| Thorneycroft|    2|\n",
            "|     Meanwell|    1|\n",
            "|      Markoff|    1|\n",
            "|       Porter|    1|\n",
            "|     Harrison|    1|\n",
            "|     Bissette|    1|\n",
            "|        Hampe|    1|\n",
            "|Lemberopolous|    1|\n",
            "|      Ekstrom|    1|\n",
            "|       Boulos|    3|\n",
            "|       Bourke|    3|\n",
            "|     McGovern|    1|\n",
            "|     Kvillner|    1|\n",
            "|   Goldenberg|    2|\n",
            "|        Keefe|    1|\n",
            "|       Leader|    1|\n",
            "+-------------+-----+\n",
            "only showing top 20 rows\n",
            "\n"
          ]
        }
      ]
    },
    {
      "cell_type": "code",
      "source": [
        "# extrair o last Name\n",
        "\n",
        "from pyspark.sql.types import StringType\n",
        "from pyspark.sql.functions import udf\n",
        "\n",
        "def getLastNameFirstCharacter(str):\n",
        "    return str.split(\",\")[0][0]\n",
        "\n",
        "getLastNameFirstCharacterUDF = udf(lambda z:getLastNameFirstCharacter(z),StringType())\n",
        "\n",
        "titanic_df.withColumn(\"lastNameFirstCharacter\", getLastNameFirstCharacterUDF(titanic_df.Name)) \\\n",
        "    .groupBy(\"lastNameFirstCharacter\") \\\n",
        "    .count().sort(\"count\", ascending=False) \\\n",
        "    .show()"
      ],
      "metadata": {
        "colab": {
          "base_uri": "https://localhost:8080/"
        },
        "id": "Zj_MW63TLaiQ",
        "outputId": "55c9342a-fe14-4fed-a0ef-8b7ab8a76cfe"
      },
      "execution_count": 65,
      "outputs": [
        {
          "output_type": "stream",
          "name": "stdout",
          "text": [
            "+----------------------+-----+\n",
            "|lastNameFirstCharacter|count|\n",
            "+----------------------+-----+\n",
            "|                     S|   85|\n",
            "|                     B|   68|\n",
            "|                     M|   66|\n",
            "|                     H|   65|\n",
            "|                     C|   64|\n",
            "|                     \"|   53|\n",
            "|                     A|   49|\n",
            "|                     L|   46|\n",
            "|                     P|   44|\n",
            "|                     R|   39|\n",
            "|                     G|   39|\n",
            "|                     D|   37|\n",
            "|                     W|   31|\n",
            "|                     T|   29|\n",
            "|                     J|   29|\n",
            "|                     F|   27|\n",
            "|                     N|   26|\n",
            "|                     K|   25|\n",
            "|                     O|   20|\n",
            "|                     V|   13|\n",
            "+----------------------+-----+\n",
            "only showing top 20 rows\n",
            "\n"
          ]
        }
      ]
    },
    {
      "cell_type": "code",
      "source": [],
      "metadata": {
        "id": "pcD7iE8vLdg4"
      },
      "execution_count": null,
      "outputs": []
    }
  ]
}